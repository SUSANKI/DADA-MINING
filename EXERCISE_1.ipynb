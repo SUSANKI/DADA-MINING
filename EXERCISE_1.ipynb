{
 "cells": [
  {
   "cell_type": "markdown",
   "metadata": {},
   "source": [
    "# DATA_MINING: EXERCISE 1"
   ]
  },
  {
   "cell_type": "code",
   "execution_count": 1,
   "metadata": {},
   "outputs": [],
   "source": [
    "import pandas as pd\n",
    "import numpy as np\n",
    "from itertools import combinations as C"
   ]
  },
  {
   "cell_type": "markdown",
   "metadata": {},
   "source": [
    "#### PROBLEM 1.1"
   ]
  },
  {
   "cell_type": "markdown",
   "metadata": {},
   "source": [
    "* Write a program which will find all such numbers which are symetric (such as 11, 121, 1221,...) between 10 and 2000 (both included). The numbers obtained should be printed in a comma separated sequence on a single line."
   ]
  },
  {
   "cell_type": "code",
   "execution_count": 2,
   "metadata": {},
   "outputs": [],
   "source": [
    "# We create a function to print the symetric number between 2 integer number a and b @-@\n",
    "def symetric_num(a,b):                        # Note: a and b must be an integer !\n",
    "    if (type(a)!= int) or (type(b)!= int):    \n",
    "        print(\"PLease enter integer number @-@\")\n",
    "        \n",
    "    set_of_num=np.linspace(a,b,b-a+1)\n",
    "    \n",
    "    for i in range(0,b-a+1):                  # We check whether the reverse of number is similar to that number *-*\n",
    "        if str(int(set_of_num[i]))== str(int(set_of_num[i]))[::-1]:\n",
    "            print (i, end=\", \")\n",
    "           "
   ]
  },
  {
   "cell_type": "code",
   "execution_count": 3,
   "metadata": {
    "scrolled": true
   },
   "outputs": [
    {
     "name": "stdout",
     "output_type": "stream",
     "text": [
      "All symetric number between 10 and 2000 is :\n",
      "1, 12, 23, 34, 45, 56, 67, 78, 89, 91, 101, 111, 121, 131, 141, 151, 161, 171, 181, 192, 202, 212, 222, 232, 242, 252, 262, 272, 282, 293, 303, 313, 323, 333, 343, 353, 363, 373, 383, 394, 404, 414, 424, 434, 444, 454, 464, 474, 484, 495, 505, 515, 525, 535, 545, 555, 565, 575, 585, 596, 606, 616, 626, 636, 646, 656, 666, 676, 686, 697, 707, 717, 727, 737, 747, 757, 767, 777, 787, 798, 808, 818, 828, 838, 848, 858, 868, 878, 888, 899, 909, 919, 929, 939, 949, 959, 969, 979, 989, 991, 1101, 1211, 1321, 1431, 1541, 1651, 1761, 1871, 1981, "
     ]
    }
   ],
   "source": [
    "print(\"All symetric number between 10 and 2000 is :\")\n",
    "symetric_num(10,2000)"
   ]
  },
  {
   "cell_type": "markdown",
   "metadata": {},
   "source": [
    "#### PROBLEM 1.2"
   ]
  },
  {
   "cell_type": "markdown",
   "metadata": {},
   "source": [
    "* Write a program which will find all such numbers which include at least 3 duplicated digits (such\n",
    "as 111, 1222,...) between 100 and 2000 (both included). The numbers obtained should be printed\n",
    "in a comma-separated sequence on a single line."
   ]
  },
  {
   "cell_type": "code",
   "execution_count": 4,
   "metadata": {},
   "outputs": [],
   "source": [
    "# We create a function to identify all distinct digit in a number, count number of repetition and max of count @-@\n",
    "# Actually, the problem is not this complicated, just for fun though *-*\n",
    "\n",
    "def duplicated_digit(num):\n",
    "    num_list=list(str(num))\n",
    "    unique_value= np.unique(np.array(num_list))\n",
    "    count_num =[]\n",
    "    for i in unique_value:\n",
    "        count_num.append(num_list.count(i))\n",
    "    max_num=max(count_num)\n",
    "    return_dict= {\"distinct value\":unique_value,\"count\":count_num, \"max\": max_num}\n",
    "    return return_dict              \n",
    "                "
   ]
  },
  {
   "cell_type": "code",
   "execution_count": 5,
   "metadata": {},
   "outputs": [
    {
     "data": {
      "text/plain": [
       "{'distinct value': array(['0', '1', '2', '3', '4', '6', '7', '9'], dtype='<U1'),\n",
       " 'count': [1, 2, 1, 4, 3, 1, 2, 2],\n",
       " 'max': 4}"
      ]
     },
     "execution_count": 5,
     "metadata": {},
     "output_type": "execute_result"
    }
   ],
   "source": [
    "# For example, the number 1332447763399014:\n",
    "duplicated_digit(1332447763399014)"
   ]
  },
  {
   "cell_type": "code",
   "execution_count": 6,
   "metadata": {},
   "outputs": [
    {
     "name": "stdout",
     "output_type": "stream",
     "text": [
      "111, 222, 333, 444, 555, 666, 777, 888, 999, 1000, 1011, 1101, 1110, 1111, 1112, 1113, 1114, 1115, 1116, 1117, 1118, 1119, 1121, 1131, 1141, 1151, 1161, 1171, 1181, 1191, 1211, 1222, 1311, 1333, 1411, 1444, 1511, 1555, 1611, 1666, 1711, 1777, 1811, 1888, 1911, 1999, 2000, "
     ]
    }
   ],
   "source": [
    "# So the number which repeaat at least 3 dupplicated digits when max_count (the most repeated digits) >=3:\n",
    "for i in np.linspace(100,2000,1901):\n",
    "    if duplicated_digit(int(i))[\"max\"]>=3:\n",
    "        print(int(i),end=\", \")"
   ]
  },
  {
   "cell_type": "markdown",
   "metadata": {},
   "source": [
    "#### PROBLEM 1.3"
   ]
  },
  {
   "cell_type": "markdown",
   "metadata": {},
   "source": [
    "* Write a program which will receive an integer larger than 0 and respond number of digits of that\n",
    "integer."
   ]
  },
  {
   "cell_type": "code",
   "execution_count": 11,
   "metadata": {},
   "outputs": [],
   "source": [
    "# Create a function to count number of digit of positive integer\n",
    "def digit(num):\n",
    "    if type(num)!=int or num<=0:\n",
    "        print(\"PLease enter positive integer number\")\n",
    "    else:\n",
    "        print(\"number of digit:\",len(list(str(num))))"
   ]
  },
  {
   "cell_type": "code",
   "execution_count": 12,
   "metadata": {},
   "outputs": [
    {
     "name": "stdout",
     "output_type": "stream",
     "text": [
      "PLease enter positive integer number\n"
     ]
    }
   ],
   "source": [
    "digit(-4)"
   ]
  },
  {
   "cell_type": "code",
   "execution_count": 13,
   "metadata": {},
   "outputs": [
    {
     "name": "stdout",
     "output_type": "stream",
     "text": [
      "PLease enter positive integer number\n"
     ]
    }
   ],
   "source": [
    "digit(34.5)"
   ]
  },
  {
   "cell_type": "code",
   "execution_count": 14,
   "metadata": {},
   "outputs": [
    {
     "name": "stdout",
     "output_type": "stream",
     "text": [
      "number of digit: 8\n"
     ]
    }
   ],
   "source": [
    "digit(14443226)"
   ]
  },
  {
   "cell_type": "markdown",
   "metadata": {},
   "source": [
    "#### PROBLEM 1.4"
   ]
  },
  {
   "cell_type": "markdown",
   "metadata": {},
   "source": [
    "* Write a program which will receive an integer larger than 0 and present that integer in binary\n",
    "format."
   ]
  },
  {
   "cell_type": "code",
   "execution_count": 22,
   "metadata": {},
   "outputs": [],
   "source": [
    "# Create a function to turn number to binary digits\n",
    "def binary(num):\n",
    "    if type(num)!=int or num<=0:\n",
    "        print(\"PLease enter positive integer number\")\n",
    "    else:\n",
    "        print(\"binary number:\",format(num,\"b\")) "
   ]
  },
  {
   "cell_type": "code",
   "execution_count": 23,
   "metadata": {},
   "outputs": [
    {
     "name": "stdout",
     "output_type": "stream",
     "text": [
      "PLease enter positive integer number\n"
     ]
    }
   ],
   "source": [
    "binary(12.5)"
   ]
  },
  {
   "cell_type": "code",
   "execution_count": 24,
   "metadata": {},
   "outputs": [
    {
     "name": "stdout",
     "output_type": "stream",
     "text": [
      "PLease enter positive integer number\n"
     ]
    }
   ],
   "source": [
    "binary(-5)"
   ]
  },
  {
   "cell_type": "code",
   "execution_count": 25,
   "metadata": {},
   "outputs": [
    {
     "name": "stdout",
     "output_type": "stream",
     "text": [
      "binary number: 10011011001000010011101011010110100000111\n"
     ]
    }
   ],
   "source": [
    "binary(1332554870023)"
   ]
  },
  {
   "cell_type": "markdown",
   "metadata": {},
   "source": [
    "#### PROBLEM 1.5"
   ]
  },
  {
   "cell_type": "markdown",
   "metadata": {},
   "source": [
    "* Write a program which will receive an integer larger than 100 and find all divisors of that integer.\n",
    "The numbers obtained should be printed in a comma-separated sequence on a single line."
   ]
  },
  {
   "cell_type": "code",
   "execution_count": 62,
   "metadata": {},
   "outputs": [],
   "source": [
    "# Create a function to find all the divisor of positive integer >100:\n",
    "def divisor(num):\n",
    "    half_num=int(num/2)\n",
    "    divisor=[1,num]\n",
    "    for i in range(2,half_num+1):\n",
    "            if (num%i)==0:\n",
    "                divisor.append(i)\n",
    "    divisor.sort()\n",
    "    return divisor          "
   ]
  },
  {
   "cell_type": "code",
   "execution_count": 66,
   "metadata": {},
   "outputs": [
    {
     "name": "stdout",
     "output_type": "stream",
     "text": [
      "Enter positive integer larger than 100:2.6\n",
      "Please input again the postive integer >100: 99\n",
      "Please input again the postive integer >100: 128\n",
      "All divisors of number is: \n",
      "\n",
      "1, 2, 4, 8, 16, 32, 64, 128\n"
     ]
    }
   ],
   "source": [
    "number=float(input(\"Enter positive integer larger than 100:\"))\n",
    "while number!= int(number) or number<=100:\n",
    "    number=float(input(\"Please input again the postive integer >100: \"))\n",
    "number=int(number)\n",
    "\n",
    "print(\"All divisors of number is: \\n\")\n",
    "print(*divisor(number),sep=\", \")"
   ]
  },
  {
   "cell_type": "markdown",
   "metadata": {},
   "source": [
    "#### PROBLEM 1.6"
   ]
  },
  {
   "cell_type": "markdown",
   "metadata": {},
   "source": [
    "* Write a program which will find all primes between 1000 and 3000 (both included). The numbers\n",
    "obtained should be printed in a comma-separated sequence on a single line."
   ]
  },
  {
   "cell_type": "code",
   "execution_count": 53,
   "metadata": {},
   "outputs": [],
   "source": [
    "# Create a function to find number of divisor of an integer\n",
    "def len_divisor(num):\n",
    "    half_num=int(num/2)\n",
    "    divisor=[1,num]\n",
    "    for i in range(2,half_num+1):\n",
    "            if (num%i)==0:\n",
    "                divisor.append(i)\n",
    "    return len(divisor)"
   ]
  },
  {
   "cell_type": "code",
   "execution_count": 57,
   "metadata": {},
   "outputs": [
    {
     "name": "stdout",
     "output_type": "stream",
     "text": [
      "all prime numbers are:\n",
      ", 1009, 1013, 1019, 1021, 1031, 1033, 1039, 1049, 1051, 1061, 1063, 1069, 1087, 1091, 1093, 1097, 1103, 1109, 1117, 1123, 1129, 1151, 1153, 1163, 1171, 1181, 1187, 1193, 1201, 1213, 1217, 1223, 1229, 1231, 1237, 1249, 1259, 1277, 1279, 1283, 1289, 1291, 1297, 1301, 1303, 1307, 1319, 1321, 1327, 1361, 1367, 1373, 1381, 1399, 1409, 1423, 1427, 1429, 1433, 1439, 1447, 1451, 1453, 1459, 1471, 1481, 1483, 1487, 1489, 1493, 1499, 1511, 1523, 1531, 1543, 1549, 1553, 1559, 1567, 1571, 1579, 1583, 1597, 1601, 1607, 1609, 1613, 1619, 1621, 1627, 1637, 1657, 1663, 1667, 1669, 1693, 1697, 1699, 1709, 1721, 1723, 1733, 1741, 1747, 1753, 1759, 1777, 1783, 1787, 1789, 1801, 1811, 1823, 1831, 1847, 1861, 1867, 1871, 1873, 1877, 1879, 1889, 1901, 1907, 1913, 1931, 1933, 1949, 1951, 1973, 1979, 1987, 1993, 1997, 1999, 2003, 2011, 2017, 2027, 2029, 2039, 2053, 2063, 2069, 2081, 2083, 2087, 2089, 2099, 2111, 2113, 2129, 2131, 2137, 2141, 2143, 2153, 2161, 2179, 2203, 2207, 2213, 2221, 2237, 2239, 2243, 2251, 2267, 2269, 2273, 2281, 2287, 2293, 2297, 2309, 2311, 2333, 2339, 2341, 2347, 2351, 2357, 2371, 2377, 2381, 2383, 2389, 2393, 2399, 2411, 2417, 2423, 2437, 2441, 2447, 2459, 2467, 2473, 2477, 2503, 2521, 2531, 2539, 2543, 2549, 2551, 2557, 2579, 2591, 2593, 2609, 2617, 2621, 2633, 2647, 2657, 2659, 2663, 2671, 2677, 2683, 2687, 2689, 2693, 2699, 2707, 2711, 2713, 2719, 2729, 2731, 2741, 2749, 2753, 2767, 2777, 2789, 2791, 2797, 2801, 2803, 2819, 2833, 2837, 2843, 2851, 2857, 2861, 2879, 2887, 2897, 2903, 2909, 2917, 2927, 2939, 2953, 2957, 2963, 2969, 2971, 2999\n"
     ]
    }
   ],
   "source": [
    "# All prime numbers only have 2 divisors:\n",
    "prime_num=[]\n",
    "for i in range(1000,3001):\n",
    "    if len_divisor(i)==2:\n",
    "        prime_num.append(i)\n",
    "print(\"all prime numbers are:\\n\", *prime_num, sep=\", \")"
   ]
  },
  {
   "cell_type": "markdown",
   "metadata": {},
   "source": [
    "#### PROBLEM 1.7"
   ]
  },
  {
   "cell_type": "markdown",
   "metadata": {},
   "source": [
    "* Write a program which will receive an integer larger than 0 and respond all perfect numbers smaller\n",
    "than that integer. A perfect number is sum of its divisors except itself, such as 6 = 1+2+3. The\n",
    "numbers obtained should be printed in a comma-separated sequence on a single line."
   ]
  },
  {
   "cell_type": "code",
   "execution_count": 73,
   "metadata": {},
   "outputs": [],
   "source": [
    "# Create a function to find the perfect number\n",
    "def perfect(num):\n",
    "    divisor_num=divisor(num)\n",
    "    if sum(divisor_num[0:len(divisor_num)-1])==num:\n",
    "        return 1           # num is perfect number\n",
    "    else:\n",
    "        return 0           # num is not perfect number"
   ]
  },
  {
   "cell_type": "code",
   "execution_count": 76,
   "metadata": {},
   "outputs": [
    {
     "name": "stdout",
     "output_type": "stream",
     "text": [
      "Enter positive integer:12.67\n",
      "Please input again the postive integer: 8129\n"
     ]
    }
   ],
   "source": [
    "number=float(input(\"Enter positive integer:\"))\n",
    "while number!= int(number):\n",
    "    number=float(input(\"Please input again the postive integer: \"))\n",
    "number=int(number)"
   ]
  },
  {
   "cell_type": "code",
   "execution_count": 77,
   "metadata": {},
   "outputs": [
    {
     "name": "stdout",
     "output_type": "stream",
     "text": [
      "All perfect numbers is: \n",
      "\n",
      "1, 6, 28, 496, 8128\n"
     ]
    }
   ],
   "source": [
    "perfect_num=[]\n",
    "for i in range(1,number):\n",
    "    if perfect(i)==1:\n",
    "        perfect_num.append(i)\n",
    "        \n",
    "print(\"All perfect numbers is: \\n\")\n",
    "print(*perfect_num,sep=\", \")"
   ]
  },
  {
   "cell_type": "markdown",
   "metadata": {},
   "source": [
    "#### PROBLEM 1.8"
   ]
  },
  {
   "cell_type": "markdown",
   "metadata": {},
   "source": [
    "* With a given integral number n, write a program to generate a dictionary that contains (i, i*i*i)\n",
    "such that is an integral number between 1 and n (both included). and then the program should\n",
    "print the dictionary. Suppose the following input is supplied to the program:\n",
    "6\n",
    "Then, the output should be:\n",
    "{1: 1, 2: 8, 3: 27, 4: 64, 5: 125, 6: 216}"
   ]
  },
  {
   "cell_type": "code",
   "execution_count": 81,
   "metadata": {},
   "outputs": [],
   "source": [
    "# Create the dictionary:\n",
    "def dictionary(n):\n",
    "    dict={}\n",
    "    key=range(1,n+1)\n",
    "    for i in key:\n",
    "        dict[i]=int(i)**3\n",
    "    return dict"
   ]
  },
  {
   "cell_type": "code",
   "execution_count": 87,
   "metadata": {},
   "outputs": [
    {
     "data": {
      "text/plain": [
       "{1: 1,\n",
       " 2: 8,\n",
       " 3: 27,\n",
       " 4: 64,\n",
       " 5: 125,\n",
       " 6: 216,\n",
       " 7: 343,\n",
       " 8: 512,\n",
       " 9: 729,\n",
       " 10: 1000,\n",
       " 11: 1331,\n",
       " 12: 1728,\n",
       " 13: 2197,\n",
       " 14: 2744,\n",
       " 15: 3375,\n",
       " 16: 4096,\n",
       " 17: 4913,\n",
       " 18: 5832,\n",
       " 19: 6859,\n",
       " 20: 8000}"
      ]
     },
     "execution_count": 87,
     "metadata": {},
     "output_type": "execute_result"
    }
   ],
   "source": [
    "dictionary(20)"
   ]
  },
  {
   "cell_type": "markdown",
   "metadata": {},
   "source": [
    "#### PROBLEM 1.9"
   ]
  },
  {
   "cell_type": "markdown",
   "metadata": {},
   "source": [
    "* Write a program which accepts a sequence of comma separated 4 digit binary numbers as its input\n",
    "and then check whether they are divisible by 3 or not. The numbers that are divisible by 3 are to\n",
    "be printed in a comma separated sequence. Example:\n",
    "0100,0011,1010,1101\n",
    "Then the output should be:\n",
    "1101\n"
   ]
  },
  {
   "cell_type": "code",
   "execution_count": 88,
   "metadata": {},
   "outputs": [],
   "source": [
    "# Create a funcion to turn binary digit to integer number:\n",
    "def binary_int(binary):\n",
    "    integer=[]\n",
    "    for i in range(len(binary)):\n",
    "        integer.append(int(binary[i],2))\n",
    "    return integer"
   ]
  },
  {
   "cell_type": "code",
   "execution_count": 99,
   "metadata": {},
   "outputs": [
    {
     "data": {
      "text/plain": [
       "[4, 3, 10, 13, 15, 11]"
      ]
     },
     "execution_count": 99,
     "metadata": {},
     "output_type": "execute_result"
    }
   ],
   "source": [
    "binary=['0100','0011','1010','1101','1111','1011']\n",
    "integer=binary_int(binary)\n",
    "integer"
   ]
  },
  {
   "cell_type": "code",
   "execution_count": 100,
   "metadata": {},
   "outputs": [
    {
     "name": "stdout",
     "output_type": "stream",
     "text": [
      "All binary numbers divisible by 3 is: \n",
      "\n",
      "0011, 1111\n"
     ]
    }
   ],
   "source": [
    "divisible=[]\n",
    "for i in range(len(integer)):\n",
    "    if not integer[i]%3:\n",
    "        divisible.append(binary[i])\n",
    "\n",
    "print(\"All binary numbers divisible by 3 is: \\n\")\n",
    "print(*divisible,sep=\", \")    "
   ]
  },
  {
   "cell_type": "markdown",
   "metadata": {},
   "source": [
    "#### PROBLEM 1.10"
   ]
  },
  {
   "cell_type": "markdown",
   "metadata": {},
   "source": [
    "* Write a program which will receive an integer larger than 0 and respond if that integer is sum of\n",
    "three distinct squared numbers, such as 38 = 22 + 32 + 52."
   ]
  },
  {
   "cell_type": "code",
   "execution_count": 2,
   "metadata": {},
   "outputs": [],
   "source": [
    "# Create a function to return 1 if the input number is sum of 3 distinct squared numbers, and return 0 otherwisse\n",
    "def sum_of_square(number):\n",
    "    square=[]\n",
    "    for i in range(1,(int(number**(1/2)))+1):\n",
    "        square.append(i**2)\n",
    "    combi_list=list(C(square,3))\n",
    "    sum_n=[x+y+z for (x,y,z) in combi_list]\n",
    "    n=0\n",
    "    for i in range(len(sum_n)):\n",
    "        if sum_n[i]==number:\n",
    "            n=n+1\n",
    "    return n"
   ]
  },
  {
   "cell_type": "code",
   "execution_count": 3,
   "metadata": {},
   "outputs": [
    {
     "name": "stdout",
     "output_type": "stream",
     "text": [
      "Enter number: -2\n",
      "Please input again the postive integer >0: 32.5\n",
      "Please input again the postive integer >0: 38\n",
      "The input number is sum of 3 distinct square numbers\n"
     ]
    }
   ],
   "source": [
    "number=float(input(\"Enter number: \"))\n",
    "while number!= int(number) or number<= 0:\n",
    "    number=float(input(\"Please input again the postive integer >0: \"))\n",
    "number=int(number)\n",
    "\n",
    "if sum_of_square(number)==1:\n",
    "    print(\"The input number is sum of 3 distinct square numbers\")\n",
    "else:\n",
    "    print(\"The input number is sum of 3 distinct square numbers\")"
   ]
  },
  {
   "cell_type": "code",
   "execution_count": null,
   "metadata": {},
   "outputs": [],
   "source": []
  }
 ],
 "metadata": {
  "kernelspec": {
   "display_name": "Python 3",
   "language": "python",
   "name": "python3"
  },
  "language_info": {
   "codemirror_mode": {
    "name": "ipython",
    "version": 3
   },
   "file_extension": ".py",
   "mimetype": "text/x-python",
   "name": "python",
   "nbconvert_exporter": "python",
   "pygments_lexer": "ipython3",
   "version": "3.8.5"
  }
 },
 "nbformat": 4,
 "nbformat_minor": 4
}
